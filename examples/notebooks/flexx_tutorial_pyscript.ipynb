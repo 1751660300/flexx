{
 "cells": [
  {
   "cell_type": "code",
   "execution_count": 11,
   "metadata": {
    "collapsed": false
   },
   "outputs": [],
   "source": [
    "from flexx.pyscript import py2js, evalpy"
   ]
  },
  {
   "cell_type": "code",
   "execution_count": 5,
   "metadata": {
    "collapsed": false
   },
   "outputs": [
    {
     "name": "stdout",
     "output_type": "stream",
     "text": [
      "var i;\n",
      "for (i = 0; i < 10; i += 1) {\n",
      "    console.log(i);\n",
      "}\n"
     ]
    }
   ],
   "source": [
    "js = py2js('for i in range(10): print(i)')\n",
    "print(js)"
   ]
  },
  {
   "cell_type": "code",
   "execution_count": 6,
   "metadata": {
    "collapsed": false
   },
   "outputs": [
    {
     "name": "stdout",
     "output_type": "stream",
     "text": [
      "var foo;\n",
      "foo = function (x) {\n",
      "    var i;\n",
      "    for (i = 0; i < x; i += 1) {\n",
      "        console.log(Math.pow(i, 2));\n",
      "    }\n",
      "    return null;\n",
      "};\n",
      "\n"
     ]
    }
   ],
   "source": [
    "def foo(x):\n",
    "    for i in range(x):\n",
    "        print(i**2)\n",
    "js = py2js(foo)\n",
    "print(js)"
   ]
  },
  {
   "cell_type": "code",
   "execution_count": 8,
   "metadata": {
    "collapsed": false
   },
   "outputs": [],
   "source": [
    "class Bar:\n",
    "    def spam(self):\n",
    "        return 3 + 4\n",
    "#js = py2js(Bar)\n",
    "# This only works if Bar is defined in an actual module."
   ]
  },
  {
   "cell_type": "markdown",
   "metadata": {},
   "source": [
    "Using `evalpy` you can evaluate Python code in NodeJS"
   ]
  },
  {
   "cell_type": "code",
   "execution_count": 12,
   "metadata": {
    "collapsed": false
   },
   "outputs": [
    {
     "data": {
      "text/plain": [
       "'9'"
      ]
     },
     "execution_count": 12,
     "metadata": {},
     "output_type": "execute_result"
    }
   ],
   "source": [
    "evalpy('3*\"3\"')"
   ]
  },
  {
   "cell_type": "code",
   "execution_count": null,
   "metadata": {
    "collapsed": true
   },
   "outputs": [],
   "source": []
  }
 ],
 "metadata": {
  "kernelspec": {
   "display_name": "Python 3",
   "language": "python",
   "name": "python3"
  },
  "language_info": {
   "codemirror_mode": {
    "name": "ipython",
    "version": 3
   },
   "file_extension": ".py",
   "mimetype": "text/x-python",
   "name": "python",
   "nbconvert_exporter": "python",
   "pygments_lexer": "ipython3",
   "version": "3.4.3"
  }
 },
 "nbformat": 4,
 "nbformat_minor": 0
}
