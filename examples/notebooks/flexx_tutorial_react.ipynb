{
 "cells": [
  {
   "cell_type": "markdown",
   "metadata": {},
   "source": [
    "# Reactive Programming"
   ]
  },
  {
   "cell_type": "markdown",
   "metadata": {},
   "source": [
    "Also see http://flexx.readthedocs.org/en/latest/react/"
   ]
  },
  {
   "cell_type": "markdown",
   "metadata": {},
   "source": [
    "Where event-driven programming is about reacting to things that happen, RP is about staying up to date with changing signals."
   ]
  },
  {
   "cell_type": "markdown",
   "metadata": {},
   "source": [
    "### Classic event driven programming"
   ]
  },
  {
   "cell_type": "code",
   "execution_count": null,
   "metadata": {
    "collapsed": true
   },
   "outputs": [],
   "source": [
    "# The action to take upon a certain event is usually specified at the \"source\"\n",
    "b = Button()\n",
    "b.mouse_down.connect(some_callback)\n",
    "...\n",
    "def some_callback(event):\n",
    "    ..."
   ]
  },
  {
   "cell_type": "markdown",
   "metadata": {},
   "source": [
    "### Reactive Programming (in flexx)"
   ]
  },
  {
   "cell_type": "markdown",
   "metadata": {},
   "source": [
    "A signal can be created by decorating a function:"
   ]
  },
  {
   "cell_type": "code",
   "execution_count": null,
   "metadata": {
    "collapsed": false
   },
   "outputs": [],
   "source": [
    "from flexx import react\n",
    "\n",
    "@react.connect('name')\n",
    "def greet(n):\n",
    "    print('hello %s!' % n)"
   ]
  },
  {
   "cell_type": "markdown",
   "metadata": {},
   "source": [
    "Signals yield new values, thereby transforming or combining the upstream signals. Also, you can connect to as many signals as necessary:"
   ]
  },
  {
   "cell_type": "code",
   "execution_count": null,
   "metadata": {
    "collapsed": true
   },
   "outputs": [],
   "source": [
    "@react.connect('first_name', 'last_name')\n",
    "def name(first, last):\n",
    "    return '%s %s' % (first, last)"
   ]
  },
  {
   "cell_type": "markdown",
   "metadata": {},
   "source": [
    "Input signals can be called with an argument to set their value:"
   ]
  },
  {
   "cell_type": "code",
   "execution_count": null,
   "metadata": {
    "collapsed": false
   },
   "outputs": [],
   "source": [
    "@react.input\n",
    "def first_name(n='John'):\n",
    "    assert isinstance(n, str)\n",
    "    return n.capitalize()\n",
    "\n",
    "@react.input\n",
    "def last_name(n='Doe'):\n",
    "    assert isinstance(n, str)\n",
    "    return n.capitalize()"
   ]
  },
  {
   "cell_type": "code",
   "execution_count": null,
   "metadata": {
    "collapsed": false
   },
   "outputs": [],
   "source": [
    "# For the sake of the story, we defined the signals out of order, so we need to connect them\n",
    "name.connect(); greet.connect()"
   ]
  },
  {
   "cell_type": "code",
   "execution_count": null,
   "metadata": {
    "collapsed": false
   },
   "outputs": [],
   "source": [
    "first_name()  # get signal value"
   ]
  },
  {
   "cell_type": "code",
   "execution_count": null,
   "metadata": {
    "collapsed": false
   },
   "outputs": [],
   "source": [
    "first_name('jane')  # set signal value (for input signals)"
   ]
  },
  {
   "cell_type": "markdown",
   "metadata": {},
   "source": [
    "### Observations:\n",
    "* The upstream signal (i.e. source) is specified *at* the callback function\n",
    "* The callback function is transformed into a signal\n",
    "* The signal yields *new* signal values, so you can create a stream/pipeline\n",
    "* Creating a pipeline provides a nice mechanism for caching values that take long to compute\n",
    "* Multiple upstream signals can be specified\n",
    "* It provides a nice integral way for user-provided data, as an alternative to properties or traits."
   ]
  },
  {
   "cell_type": "markdown",
   "metadata": {},
   "source": [
    "### The HasSignals class"
   ]
  },
  {
   "cell_type": "code",
   "execution_count": null,
   "metadata": {
    "collapsed": false
   },
   "outputs": [],
   "source": [
    "class Item(react.HasSignals):\n",
    "    \n",
    "    @react.input\n",
    "    def name(n):\n",
    "        return str(n)\n",
    "\n",
    "class Collection(react.HasSignals):\n",
    "\n",
    "    @react.input\n",
    "    def items(items):\n",
    "        assert all([isinstance(i, Item) for i in items])\n",
    "        return tuple(list(items))\n",
    "    \n",
    "    @react.input\n",
    "    def ref(i):\n",
    "        assert isinstance(i, Item)\n",
    "        return i"
   ]
  },
  {
   "cell_type": "code",
   "execution_count": null,
   "metadata": {
    "collapsed": false
   },
   "outputs": [],
   "source": [
    "itemA, itemB, itemC, itemD = Item(name='A'), Item(name='B'), Item(name='C'), Item(name='D')\n",
    "C1 = Collection(items=(itemA, itemB))\n",
    "C2 = Collection(items=(itemC, itemD))"
   ]
  },
  {
   "cell_type": "code",
   "execution_count": null,
   "metadata": {
    "collapsed": false
   },
   "outputs": [],
   "source": [
    "itemB.name()"
   ]
  },
  {
   "cell_type": "code",
   "execution_count": null,
   "metadata": {
    "collapsed": false
   },
   "outputs": [],
   "source": [
    "C1.items()"
   ]
  },
  {
   "cell_type": "markdown",
   "metadata": {},
   "source": [
    "### Dynamism - connect to signals of signals"
   ]
  },
  {
   "cell_type": "code",
   "execution_count": null,
   "metadata": {
    "collapsed": true
   },
   "outputs": [],
   "source": [
    "class Collection2(Collection):\n",
    "    \n",
    "    @react.connect('ref.name')\n",
    "    def show_ref_name(name):\n",
    "        print('The ref is %s' % name)\n",
    "    \n",
    "    @react.connect('items.*.name')\n",
    "    def show_index(*names):\n",
    "        print('index: '+ ', '.join(names))"
   ]
  },
  {
   "cell_type": "code",
   "execution_count": null,
   "metadata": {
    "collapsed": false
   },
   "outputs": [],
   "source": [
    "itemA, itemB, itemC, itemD = Item(name='A'), Item(name='B'), Item(name='C'), Item(name='D')\n",
    "C1 = Collection2(items=(itemA, itemB))\n",
    "C2 = Collection2(items=(itemC, ))"
   ]
  },
  {
   "cell_type": "code",
   "execution_count": null,
   "metadata": {
    "collapsed": false
   },
   "outputs": [],
   "source": [
    "C1.ref(itemA)"
   ]
  },
  {
   "cell_type": "code",
   "execution_count": null,
   "metadata": {
    "collapsed": false
   },
   "outputs": [],
   "source": [
    "C1.ref(itemD)"
   ]
  },
  {
   "cell_type": "code",
   "execution_count": null,
   "metadata": {
    "collapsed": false
   },
   "outputs": [],
   "source": [
    "itemD.name('D-renamed')"
   ]
  },
  {
   "cell_type": "code",
   "execution_count": null,
   "metadata": {
    "collapsed": false
   },
   "outputs": [],
   "source": [
    "C2.items([itemC, itemD])"
   ]
  },
  {
   "cell_type": "code",
   "execution_count": null,
   "metadata": {
    "collapsed": false
   },
   "outputs": [],
   "source": [
    "itemC.name('C-renamed')"
   ]
  },
  {
   "cell_type": "markdown",
   "metadata": {
    "collapsed": true
   },
   "source": [
    "### Lazy evaluation\n",
    "By default react uses a push approach, which is useful in GUI's. In other situation, a pull approach might be more appropriate."
   ]
  },
  {
   "cell_type": "code",
   "execution_count": null,
   "metadata": {
    "collapsed": true
   },
   "outputs": [],
   "source": [
    "@react.input\n",
    "def foo(v):\n",
    "    return str(v)\n",
    "\n",
    "@react.lazy('foo')\n",
    "def bar(v):\n",
    "    print('update bar')\n",
    "    return v * 10  # imagine that this is an expensive operation"
   ]
  },
  {
   "cell_type": "code",
   "execution_count": null,
   "metadata": {
    "collapsed": false
   },
   "outputs": [],
   "source": [
    "foo('hello')  # Does not trigger bar\n",
    "foo('heya')\n",
    "foo('hi')\n",
    "bar()  # this is where bar gets updated"
   ]
  },
  {
   "cell_type": "code",
   "execution_count": null,
   "metadata": {
    "collapsed": false
   },
   "outputs": [],
   "source": [
    "bar()  # foo has not changed; cached value is returned"
   ]
  },
  {
   "cell_type": "markdown",
   "metadata": {},
   "source": [
    "### Signal history\n",
    "Signals store their current value as well as the previous value. (The timestamps are also stored, though these are not yet available via the public API.)"
   ]
  },
  {
   "cell_type": "code",
   "execution_count": null,
   "metadata": {
    "collapsed": false
   },
   "outputs": [],
   "source": [
    "@react.input\n",
    "def some_value(v=0):\n",
    "    return float(v)\n",
    "some_value(0)  # init\n",
    "\n",
    "@react.connect('some_value')\n",
    "def show_diff(s):\n",
    "    print('diff: ', s - some_value.last_value)  # note: we might rename this to previous_value"
   ]
  },
  {
   "cell_type": "code",
   "execution_count": null,
   "metadata": {
    "collapsed": false
   },
   "outputs": [],
   "source": [
    "some_value(10)"
   ]
  },
  {
   "cell_type": "code",
   "execution_count": null,
   "metadata": {
    "collapsed": false
   },
   "outputs": [],
   "source": [
    "some_value(12)"
   ]
  }
 ],
 "metadata": {
  "kernelspec": {
   "display_name": "Python 3",
   "language": "python",
   "name": "python3"
  },
  "language_info": {
   "codemirror_mode": {
    "name": "ipython",
    "version": 3
   },
   "file_extension": ".py",
   "mimetype": "text/x-python",
   "name": "python",
   "nbconvert_exporter": "python",
   "pygments_lexer": "ipython3",
   "version": "3.4.3"
  }
 },
 "nbformat": 4,
 "nbformat_minor": 0
}
